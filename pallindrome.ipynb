{
 "cells": [
  {
   "cell_type": "code",
   "execution_count": null,
   "id": "dbeaf6ba",
   "metadata": {},
   "outputs": [],
   "source": [
    "def pallindrome(a,b):\n",
    "    cnt=0\n",
    "    k=-1\n",
    "    for i in a:\n",
    "        if i != a[k]:\n",
    "            break\n",
    "        cnt+=1\n",
    "        k-=1\n",
    "    if cnt == b:\n",
    "        print('pallindrome')\n",
    "    else:\n",
    "        print('not pallindrome')"
   ]
  },
  {
   "cell_type": "code",
   "execution_count": null,
   "id": "d3255dd8",
   "metadata": {},
   "outputs": [],
   "source": [
    "x=input('enter a string:')\n",
    "y=int(len(x))\n",
    "pallindrome(x,y)"
   ]
  },
  {
   "cell_type": "code",
   "execution_count": null,
   "id": "ab5e2164",
   "metadata": {},
   "outputs": [],
   "source": []
  }
 ],
 "metadata": {
  "kernelspec": {
   "display_name": "Python 3 (ipykernel)",
   "language": "python",
   "name": "python3"
  },
  "language_info": {
   "codemirror_mode": {
    "name": "ipython",
    "version": 3
   },
   "file_extension": ".py",
   "mimetype": "text/x-python",
   "name": "python",
   "nbconvert_exporter": "python",
   "pygments_lexer": "ipython3",
   "version": "3.10.9"
  }
 },
 "nbformat": 4,
 "nbformat_minor": 5
}
